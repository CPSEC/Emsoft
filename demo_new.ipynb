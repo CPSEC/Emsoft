{
 "cells": [
  {
   "cell_type": "code",
   "execution_count": 1,
   "metadata": {},
   "outputs": [],
   "source": [
    "import os\n",
    "from control.matlab import ss, lsim, linspace, c2d\n",
    "from PID import PID\n",
    "from sim3 import vt,dc,ap\n",
    "import matplotlib.pyplot as plt\n",
    "import numpy as np\n",
    "import time\n",
    "import statistics"
   ]
  },
  {
   "cell_type": "code",
   "execution_count": 58,
   "metadata": {},
   "outputs": [
    {
     "name": "stdout",
     "output_type": "stream",
     "text": [
      "A = [[0.84648172]]\n",
      "\n",
      "B = [[0.09211097]]\n",
      "\n",
      "C = [[1.]]\n",
      "\n",
      "D = [[0.]]\n",
      "\n",
      "dt = 0.02\n",
      "\n"
     ]
    }
   ],
   "source": [
    "# you can use vt, dc and ap\n",
    "a = vt()\n",
    "print(a.sysd)\n",
    "a.thres=3"
   ]
  },
  {
   "cell_type": "code",
   "execution_count": 59,
   "metadata": {
    "scrolled": true
   },
   "outputs": [
    {
     "data": {
      "image/png": "[encoded data removed]",
      "text/plain": [
       "<Figure size 432x288 with 1 Axes>"
      ]
     },
     "metadata": {
      "needs_background": "light"
     },
     "output_type": "display_data"
    }
   ],
   "source": [
    "#only for vt\n",
    "control_inputs = []\n",
    "measures=[]\n",
    "x_just_before = 0\n",
    "xout=1\n",
    "pid = PID(P=a.p, I=a.i, D=a.d, current_time=0)\n",
    "pid.setWindup(100)\n",
    "pid.setSampleTime(a.Ts)\n",
    "for i in range(0, a.slot+1):\n",
    "    a.y_real_arr.append(a.yreal)\n",
    "    # sensor attack here\n",
    "    a.score.append(a.s)\n",
    "    pid.SetPoint = a.ref[i]\n",
    "    pid.update(feedback_value=a.ymeasure, current_time=i * a.Ts)\n",
    "    a.cin = pid.output\n",
    "#     print(a.ymeasure,i,a.cin,xout)\n",
    "    if a.cin>5:\n",
    "        a.cin=5\n",
    "    elif a.cin<-5:\n",
    "        a.cin = -5\n",
    "    else:\n",
    "        a.cin=a.cin\n",
    "    control_inputs.append(a.cin)\n",
    "    if i>a.place:\n",
    "        if (a.score[-1]==a.thres):\n",
    "            a.att=a.drift\n",
    "        else:\n",
    "            a.att = a.thres+a.drift-a.score[-1]\n",
    "    \n",
    "    yout, T, xout = lsim(a.sysc, a.cin, [0, a.Ts], a.ymeasure)\n",
    "    ymax, T, xout1 = lsim(a.sysc, a.maxc, [0, a.Ts], a.ymeasure)\n",
    "    yout2, T, xout2 = lsim(a.sysc, a.cin, [0, a.Ts], a.yreal)\n",
    "    a.yreal=yout2[-1]\n",
    "    ypred = yout[-1]\n",
    "    a.ymeasure = yout[-1]-a.att\n",
    "#     if i>a.place-1:\n",
    "#         a.ymeasure = min(ymax[-1],yout[-1]-a.att)\n",
    "#         print(a.ymeasure,a.cin)\n",
    "    a.s = a.score[-1]+abs(ypred-a.ymeasure)-a.drift\n",
    "    if(a.s<0):\n",
    "        a.s=0\n",
    "    if(i==a.place+1):\n",
    "        x_just_before = xout\n",
    "    measures.append(a.ymeasure)\n",
    "\n",
    "# print(control_inputs[a.place+2:])\n",
    "# print(a.score[a.place+2:])\n",
    "# print(x_just_before)\n",
    "plt.plot(a.t_arr[350:]-7, a.y_real_arr[350:],label='real')\n",
    "plt.plot(a.t_arr[350:]-7, measures[350:],label='measure')\n",
    "plt.plot(a.t_arr[350:]-7, a.ref[350:],label='ref')\n",
    "plt.axhspan(2.7, 3.0, color='r', alpha=0.5)\n",
    "plt.axvline(x=(a.place+2+k)*a.Ts-7, color='brown',label='stable')\n",
    "plt.xlabel('Time', fontsize=14)\n",
    "plt.ylabel('Y', fontsize=14)\n",
    "plt.legend()\n",
    "plt.show()"
   ]
  },
  {
   "cell_type": "code",
   "execution_count": 60,
   "metadata": {},
   "outputs": [
    {
     "name": "stdout",
     "output_type": "stream",
     "text": [
      "0.46958638766097455 0.00250546778420609 0.003722086198604006 0.0070567773336808175 0.008656605188989532 0.011807765856741622 0.012940903195902732 0.014745776161672997 0.01532786304732379 0.0168862307908804 0.014810754808469986 0.015681317957234344 0.013140985162531923 0.013537512777719465 0.010970836442528862 0.011075648541979729 0.008746273270303617 0.008692207396805172 0.006722445649374719 0.00659656773566027 0.005013922558523824 0.004868115373373414 0.0036456173417696255 0.003507516407113047 0.0027606960527419566 0.002470515131522871 0.0019117146836053615 0.0016964075475879052 0.0012885276178484317 0.0011321504445660742 0.0008405542684842204 0.0007289658704446801 0.0005241628817891805 0.0004456951471440419 0.00041356050450778244 0.00028953263200957315 0.00026720213933321437 0.00018547879185525171 0.0001702662500639626 0.00011719642919404368 0.00010701849321674231 7.710573816408602e-05 6.673179267295287e-05 4.7469841623095335e-05 4.0762351018361066e-05 2.8492516700224637e-05 2.418876998314102e-05 1.6450945681618836e-05 1.3707013869972522e-05 8.871994394223285e-06 7.493545240795631e-06 6.365249101140377e-06 4.3074687064581e-06 3.6253984609890096e-06 2.4013184671103036e-06 1.9923830196836116e-06 1.272966273317003e-06 1.0296141051204499e-06 6.118950623045765e-07 4.680594000592574e-07 3.963509033853646e-07 2.3667687969527615e-07 1.9753541656373643e-07 1.1462919278200188e-07 9.393431131129889e-08 5.2488475750417453e-08 4.198138892617184e-08 2.22484738249885e-08 1.720001277719096e-08 8.410402510518675e-09 max_k 69\n",
      "1.0000135708583067 0\n",
      "num_control= 69\n",
      "safe_set_lo= [-2.7]\n",
      "safe_set_up= [2.7]\n",
      "i= 1 x_lo= [[1.00001184]]  x_up= [[1.00001221]]\n",
      "i= 2 x_lo= [[1.19838029]]  x_up= [[1.1983808]]\n",
      "i= 3 x_lo= [[1.36629556]]  x_up= [[1.36629619]]\n",
      "i= 4 x_lo= [[1.51301388]]  x_up= [[1.51301461]]\n",
      "i= 5 x_lo= [[1.63720826]]  x_up= [[1.63720908]]\n",
      "i= 6 x_lo= [[1.74127909]]  x_up= [[1.74127998]]\n",
      "i= 7 x_lo= [[1.82937314]]  x_up= [[1.8293741]]\n",
      "i= 8 x_lo= [[1.89937536]]  x_up= [[1.89937637]]\n",
      "i= 9 x_lo= [[1.95668919]]  x_up= [[1.95669024]]\n",
      "i= 10 x_lo= [[2.00520429]]  x_up= [[2.00520538]]\n",
      "i= 11 x_lo= [[2.03897587]]  x_up= [[2.03897699]]\n",
      "i= 12 x_lo= [[2.06756289]]  x_up= [[2.06756404]]\n",
      "i= 13 x_lo= [[2.08391162]]  x_up= [[2.08391279]]\n",
      "i= 14 x_lo= [[2.09775052]]  x_up= [[2.09775171]]\n",
      "i= 15 x_lo= [[2.10163914]]  x_up= [[2.10164035]]\n",
      "i= 16 x_lo= [[2.10493079]]  x_up= [[2.10493202]]\n",
      "i= 17 x_lo= [[2.10027916]]  x_up= [[2.10028039]]\n",
      "i= 18 x_lo= [[2.09634163]]  x_up= [[2.09634288]]\n",
      "i= 19 x_lo= [[2.08616972]]  x_up= [[2.08617098]]\n",
      "i= 20 x_lo= [[2.07755939]]  x_up= [[2.07756065]]\n",
      "i= 21 x_lo= [[2.06413605]]  x_up= [[2.06413732]]\n",
      "i= 22 x_lo= [[2.05277344]]  x_up= [[2.05277471]]\n",
      "i= 23 x_lo= [[2.03775708]]  x_up= [[2.03775836]]\n",
      "i= 24 x_lo= [[2.02504601]]  x_up= [[2.02504729]]\n",
      "i= 25 x_lo= [[2.00961052]]  x_up= [[2.0096118]]\n",
      "i= 26 x_lo= [[1.99654465]]  x_up= [[1.99654594]]\n",
      "i= 27 x_lo= [[1.98148765]]  x_up= [[1.98148894]]\n",
      "i= 28 x_lo= [[1.96874217]]  x_up= [[1.96874346]]\n",
      "i= 29 x_lo= [[1.95457537]]  x_up= [[1.95457667]]\n",
      "i= 30 x_lo= [[1.94258344]]  x_up= [[1.94258473]]\n",
      "i= 31 x_lo= [[1.92960627]]  x_up= [[1.92960757]]\n",
      "i= 32 x_lo= [[1.91862133]]  x_up= [[1.91862263]]\n",
      "i= 33 x_lo= [[1.9069796]]  x_up= [[1.9069809]]\n",
      "i= 34 x_lo= [[1.89608867]]  x_up= [[1.89608996]]\n",
      "i= 35 x_lo= [[1.88686969]]  x_up= [[1.88687099]]\n",
      "i= 36 x_lo= [[1.87733067]]  x_up= [[1.87733197]]\n",
      "i= 37 x_lo= [[1.86925607]]  x_up= [[1.86925737]]\n",
      "i= 38 x_lo= [[1.86101035]]  x_up= [[1.86101166]]\n",
      "i= 39 x_lo= [[1.85403051]]  x_up= [[1.85403181]]\n",
      "i= 40 x_lo= [[1.84698365]]  x_up= [[1.84698495]]\n",
      "i= 41 x_lo= [[1.84101862]]  x_up= [[1.84101992]]\n",
      "i= 42 x_lo= [[1.83505688]]  x_up= [[1.83505818]]\n",
      "i= 43 x_lo= [[1.83001038]]  x_up= [[1.83001168]]\n",
      "i= 44 x_lo= [[1.82501239]]  x_up= [[1.82501369]]\n",
      "i= 45 x_lo= [[1.82078168]]  x_up= [[1.82078298]]\n",
      "i= 46 x_lo= [[1.81662643]]  x_up= [[1.81662773]]\n",
      "i= 47 x_lo= [[1.81310909]]  x_up= [[1.81311039]]\n",
      "i= 48 x_lo= [[1.80968113]]  x_up= [[1.80968244]]\n",
      "i= 49 x_lo= [[1.80677943]]  x_up= [[1.80678074]]\n",
      "i= 50 x_lo= [[1.80397202]]  x_up= [[1.80397332]]\n",
      "i= 51 x_lo= [[1.80143978]]  x_up= [[1.80144109]]\n",
      "i= 52 x_lo= [[1.79929629]]  x_up= [[1.7992976]]\n",
      "i= 53 x_lo= [[1.79724554]]  x_up= [[1.79724684]]\n",
      "i= 54 x_lo= [[1.79550961]]  x_up= [[1.79551091]]\n",
      "i= 55 x_lo= [[1.7938597]]  x_up= [[1.793861]]\n",
      "i= 56 x_lo= [[1.79246308]]  x_up= [[1.79246438]]\n",
      "i= 57 x_lo= [[1.79114425]]  x_up= [[1.79114556]]\n",
      "i= 58 x_lo= [[1.79002789]]  x_up= [[1.7900292]]\n",
      "i= 59 x_lo= [[1.78898051]]  x_up= [[1.78898181]]\n",
      "i= 60 x_lo= [[1.78804839]]  x_up= [[1.78804969]]\n",
      "i= 61 x_lo= [[1.78725937]]  x_up= [[1.78726067]]\n",
      "i= 62 x_lo= [[1.78652714]]  x_up= [[1.78652845]]\n",
      "i= 63 x_lo= [[1.78590733]]  x_up= [[1.78590863]]\n",
      "i= 64 x_lo= [[1.78533602]]  x_up= [[1.78533732]]\n",
      "i= 65 x_lo= [[1.78485241]]  x_up= [[1.78485371]]\n",
      "i= 66 x_lo= [[1.78440978]]  x_up= [[1.78441108]]\n",
      "i= 67 x_lo= [[1.7840351]]  x_up= [[1.78403641]]\n",
      "i= 68 x_lo= [[1.78369472]]  x_up= [[1.78369602]]\n",
      "i= 69 x_lo= [[1.78340659]]  x_up= [[1.78340789]]\n",
      "69\n"
     ]
    }
   ],
   "source": [
    "# ---------------------------------------\n",
    "max_k = 450\n",
    "attack_inputs = control_inputs[a.place+2:]\n",
    "for j in range(0, len(attack_inputs)-10):\n",
    "    temp = attack_inputs[j:j+10]\n",
    "    vari = statistics.variance(temp)\n",
    "    print(vari, end= ' ')\n",
    "    if(vari < 1e-8):\n",
    "        max_k = j\n",
    "        break\n",
    "print('max_k', max_k)\n",
    "\n",
    "attack_inputs = np.array([control_inputs[a.place+2:]])\n",
    "x_just_before = x_just_before[-1]\n",
    "print(x_just_before, len(x_just_before.shape))\n",
    "if len(x_just_before.shape) == 0:\n",
    "    x_a = np.array([[x_just_before]])\n",
    "else:\n",
    "    x_a = np.array([[item] for item in x_just_before])\n",
    "# def get_safetime(self, x_a, safe_set_lo, safe_set_up, control_list: np.array, max_k)\n",
    "safe_set_lo = a.safeset['lo']\n",
    "safe_set_up = a.safeset['up']\n",
    "k = a.est.get_safetime(x_a, safe_set_lo, safe_set_up, attack_inputs, max_k)\n",
    "print(k)\n",
    "\n",
    "# ---------------------------------------\n",
    "        \n"
   ]
  },
  {
   "cell_type": "code",
   "execution_count": 5,
   "metadata": {},
   "outputs": [
    {
     "data": {
      "text/plain": [
       "500"
      ]
     },
     "execution_count": 5,
     "metadata": {},
     "output_type": "execute_result"
    }
   ],
   "source": [
    "a.slot"
   ]
  },
  {
   "cell_type": "code",
   "execution_count": 11,
   "metadata": {},
   "outputs": [
    {
     "data": {
      "image/png": "[encoded data removed]",
      "text/plain": [
       "<Figure size 432x288 with 1 Axes>"
      ]
     },
     "metadata": {
      "needs_background": "light"
     },
     "output_type": "display_data"
    }
   ],
   "source": [
    "plt.plot(a.t_arr, a.y_real_arr, a.t_arr, a.ref)\n",
    "plt.axhspan(2.7, 3.5, color='r', alpha=0.5)\n",
    "plt.show()"
   ]
  },
  {
   "cell_type": "code",
   "execution_count": 6,
   "metadata": {},
   "outputs": [],
   "source": [
    "a=dc()"
   ]
  },
  {
   "cell_type": "code",
   "execution_count": 7,
   "metadata": {},
   "outputs": [
    {
     "data": {
      "image/png": "[encoded data removed]",
      "text/plain": [
       "<Figure size 432x288 with 1 Axes>"
      ]
     },
     "metadata": {
      "needs_background": "light"
     },
     "output_type": "display_data"
    }
   ],
   "source": [
    "#for ap and dc\n",
    "control_inputs = []\n",
    "x_just_before = 0\n",
    "pid = PID(P=a.p, I=a.i, D=a.d, current_time=0)\n",
    "pid.setWindup(100)\n",
    "pid.setSampleTime(a.Ts)\n",
    "for i in range(0, a.slot+1):\n",
    "    a.y_real_arr.append(a.yreal)\n",
    "    # sensor attack here\n",
    "    a.score.append(a.s)\n",
    "    pid.SetPoint = a.ref[i]\n",
    "#     print(a.ymeasure,i * a.Ts)\n",
    "    pid.update(feedback_value=a.ymeasure, current_time=i * a.Ts)\n",
    "    a.cin = pid.output\n",
    "\n",
    "    if a.cin>5:\n",
    "        a.cin=5\n",
    "    elif a.cin<-5:\n",
    "        a.cin = -5\n",
    "    else:\n",
    "        a.cin=a.cin\n",
    "    control_inputs.append(a.cin)\n",
    "    if i>a.place:\n",
    "        if (a.score[-1]==a.thres):\n",
    "            a.att=a.drift\n",
    "        else:\n",
    "            a.att = a.thres+a.drift-a.score[-1]\n",
    "            x_just_before = xout \n",
    "    yout, T, xout = lsim(a.sysd, a.cin, [0, a.Ts], a.xmeasure)\n",
    "    yout2, T, xout2 = lsim(a.sysd, a.cin, [0, a.Ts], a.xreal)\n",
    "    a.yreal=yout2[-1]\n",
    "    ypred = yout[-1]\n",
    "    a.xmeasure = xout[-1, :].T\n",
    "    a.xreal = xout2[-1, :].T\n",
    "    a.ymeasure = yout[-1]-a.att\n",
    "#     if i>a.place:\n",
    "#         a.ymeasure = min(ymax[-1],yout[-1]-a.att)\n",
    "    a.s = a.score[-1]+abs(ypred-a.ymeasure)-a.drift\n",
    "    if(a.s<0):\n",
    "        a.s=0\n",
    "plt.plot(a.t_arr, a.y_real_arr, a.t_arr, a.ref)\n",
    "plt.show()\n",
    "#waht you need\n",
    "# print(control_inputs)\n",
    "# print(x_just_before)"
   ]
  },
  {
   "cell_type": "code",
   "execution_count": null,
   "metadata": {},
   "outputs": [],
   "source": []
  }
 ],
 "metadata": {
  "kernelspec": {
   "display_name": "Python 3",
   "language": "python",
   "name": "python3"
  },
  "language_info": {
   "codemirror_mode": {
    "name": "ipython",
    "version": 3
   },
   "file_extension": ".py",
   "mimetype": "text/x-python",
   "name": "python",
   "nbconvert_exporter": "python",
   "pygments_lexer": "ipython3",
   "version": "3.7.3"
  }
 },
 "nbformat": 4,
 "nbformat_minor": 2
}
