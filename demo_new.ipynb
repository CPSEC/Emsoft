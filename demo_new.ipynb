{
 "cells": [
  {
   "cell_type": "code",
   "execution_count": 1,
   "metadata": {},
   "outputs": [],
   "source": [
    "import os\n",
    "from control.matlab import ss, lsim, linspace, c2d\n",
    "from PID import PID\n",
    "from sim3 import vt,dc,ap\n",
    "import matplotlib.pyplot as plt\n",
    "import numpy as np\n",
    "import time\n",
    "import statistics"
   ]
  },
  {
   "cell_type": "code",
   "execution_count": 2,
   "metadata": {},
   "outputs": [
    {
     "name": "stdout",
     "output_type": "stream",
     "text": [
      "A = [[0.84648172]]\n",
      "\n",
      "B = [[0.09211097]]\n",
      "\n",
      "C = [[1.]]\n",
      "\n",
      "D = [[0.]]\n",
      "\n",
      "dt = 0.02\n",
      "\n"
     ]
    }
   ],
   "source": [
    "# you can use vt, dc and ap\n",
    "a = vt()\n",
    "print(a.sysd)\n",
    "# a.ref = [0] * 251 + [2] * 250\n",
    "# a.thres=6"
   ]
  },
  {
   "cell_type": "code",
   "execution_count": 3,
   "metadata": {
    "scrolled": true
   },
   "outputs": [],
   "source": [
    "#only for vt\n",
    "control_inputs = []\n",
    "measures=[]\n",
    "x_just_before = 0\n",
    "xout=1\n",
    "pid = PID(P=a.p, I=a.i, D=a.d, current_time=0)\n",
    "pid.setWindup(100)\n",
    "pid.setSampleTime(a.Ts)\n",
    "for i in range(0, a.slot+1):\n",
    "    a.y_real_arr.append(a.yreal)\n",
    "    # sensor attack here\n",
    "    a.score.append(a.s)\n",
    "    pid.SetPoint = a.ref[i]\n",
    "    pid.update(feedback_value=a.ymeasure, current_time=i * a.Ts)\n",
    "    a.cin = pid.output\n",
    "#     print(a.ymeasure,i,a.cin,xout)\n",
    "    if a.cin>5:\n",
    "        a.cin=5\n",
    "    elif a.cin<-5:\n",
    "        a.cin = -5\n",
    "    else:\n",
    "        a.cin=a.cin\n",
    "    control_inputs.append(a.cin)\n",
    "    if i>a.place:\n",
    "        if (a.score[-1]==a.thres):\n",
    "            a.att=a.drift\n",
    "        else:\n",
    "            a.att = a.thres+a.drift-a.score[-1]\n",
    "    \n",
    "    yout, T, xout = lsim(a.sysc, a.cin, [0, a.Ts], a.ymeasure)\n",
    "    ymax, T, xout1 = lsim(a.sysc, a.maxc, [0, a.Ts], a.ymeasure)\n",
    "    yout2, T, xout2 = lsim(a.sysc, a.cin, [0, a.Ts], a.yreal)\n",
    "    a.yreal=yout2[-1]\n",
    "    ypred = yout[-1]\n",
    "    a.ymeasure = yout[-1]-a.att\n",
    "#     if i>a.place-1:\n",
    "#         a.ymeasure = min(ymax[-1],yout[-1]-a.att)\n",
    "#         print(a.ymeasure,a.cin)\n",
    "    a.s = a.score[-1]+abs(ypred-a.ymeasure)-a.drift\n",
    "    if(a.s<0):\n",
    "        a.s=0\n",
    "    if(i==a.place+1):\n",
    "        x_just_before = xout\n",
    "    measures.append(a.ymeasure)\n",
    "\n",
    "# print(control_inputs[a.place+2:])\n",
    "# print(a.score[a.place+2:])\n",
    "# print(x_just_before)\n"
   ]
  },
  {
   "cell_type": "code",
   "execution_count": 4,
   "metadata": {},
   "outputs": [
    {
     "name": "stdout",
     "output_type": "stream",
     "text": [
      "attack_inputs= [1.6666725064903742, 5, 5, 5, 5, 5, 5, 4.862332517356338, 4.786998639049702, 4.786998639049702, 4.578899029148652, 4.578899029148652, 4.370839361894953, 4.370839361894953, 4.172713289453148, 4.172713289453148, 3.990295496189999, 3.990295496189999, 3.8264845703077857, 3.8264845703077857, 3.6822248333060177, 3.6822248333060177, 3.557181534251689, 3.557181534251689, 3.4502281416178286, 3.4502281416178286, 3.35979177031078, 3.35979177031078, 3.284092572206534, 3.284092572206534, 3.221304765195524, 3.221304765195524, 3.169660509029703, 3.1468089074409002, 3.1468089074409002, 3.1089993436336165, 3.1089993436336165, 3.0784769077186747, 3.0784769077186747, 3.0540097873491137, 3.0540097873491137, 3.034531733762302, 3.034531733762302, 3.0191318277473984, 3.0191318277473984, 3.007040619730115, 3.007040619730115, 2.997614640193391, 2.997614640193391, 2.990320618636561, 2.9870832994790253, 2.9870832994790253, 2.9822337282919618, 2.9822337282919618, 2.978562147230217, 2.978562147230217, 2.9758093067313616, 2.9758093067313616, 2.9737677401639777, 2.9728596054916903, 2.9728596054916903, 2.971602904663823, 2.971602904663823, 2.9707064567814294, 2.9707064567814294, 2.9700801965893677, 2.9700801965893677, 2.9696543816382066, 2.9696543816382066, 2.9693754244679154, 2.9693754244679154, 2.9692024913257598, 2.9692024913257598, 2.96910474692178, 2.96910474692178, 2.9690591383633063, 2.9690591383633063, 2.969048625111115, 2.969048625111115, 2.9690607748884585, 2.9690607748884585, 2.9690866575525887, 2.9690866575525887, 2.969119979803679, 2.969119979803679, 2.969156413187881, 2.969156413187881, 2.9691930761661443, 2.9692091551123228, 2.9692091551123228, 2.9692431512564608, 2.9692431512564608, 2.969274144435808, 2.969274144435808, 2.9693017652906897, 2.9693017652906897, 2.969325941173236, 2.969325941173236, 2.969346790266013, 2.969346790266013, 2.969364545631057, 2.969364545631057, 2.9693795017766664, 2.9693795017766664, 2.9693919779885958, 2.9693919779885958, 2.969402293994064, 2.969402293994064, 2.969410754572791, 2.969410754572791, 2.9694176405508386, 2.9694176405508386, 2.9694232042540545, 2.9694256682367794, 2.9694256682367794, 2.9694296344926903, 2.9694296344926903, 2.9694327832341476, 2.9694327832341476, 2.969435265771131, 2.969435265771131, 2.969437209380971, 2.969437209380971, 2.969438720103303, 2.969438720103303, 2.969439885516462, 2.969439885516462, 2.96944077736992, 2.96944077736992, 2.9694414540004654, 2.9694414540004654, 2.969441962496741, 2.969441962496741, 2.9694423406018036, 2.9694423406018036, 2.9694426183596274, 2.9694426183596274, 2.969442819521514, 2.969442909117811, 2.969442909117811, 2.969443027221226, 2.969443027221226, 2.9694431080917294, 2.9694431080917294, 2.9694431615987193, 2.9694431615987193, 2.969443195277755, 2.969443195277755, 2.9694432148317347]\n",
      "0.08945320729342299 0.08891777800272957 0.09429278378822477 0.07916585010147217 0.08164678986231802 0.06626051599005196 0.06695089033189043 0.05292928555183654 0.0526378786772044 0.04074680982829176 0.040006191511636494 0.030431463231701733 0.02956050206925832 0.022152005804497835 0.021321629384928938 0.015770201650093765 0.015057394082488563 0.01170636435015149 0.010428019016339805 0.00797976195953653 0.007050738197299928 0.005299475877655471 0.004636449259242042 0.003406169709409746 0.002940085502260704 0.0020891731216186537 0.0017656343955403993 0.0016297608559567264 0.0011316331679494798 0.001039009380714255 0.0007153726739227987 0.0006533654733406118 0.0004460536881066356 0.00040523686136732594 0.00028928950345441214 0.00024947729116050533 0.00017581475284381444 0.00015041106020449447 0.00010410961104291116 8.801881222555971e-05 5.9205205354511167e-05 4.907549137163711e-05 3.131054208244129e-05 2.6201719332067993e-05 2.2148894965237294e-05 1.479033986311878e-05 1.2381074821928015e-05 8.078798811420398e-06 6.659757345018302e-06 4.178078127365701e-06 3.349573993335485e-06 1.9379719529004166e-06 1.4583690271780743e-06 1.2175617928562405e-06 7.06987505058115e-07 max_k 61\n",
      "1.0000135708583067 0\n",
      "num_control= 61\n",
      "safe_set_lo= [-2.7]\n",
      "safe_set_up= [2.7]\n",
      "i= 1 x_lo= [[1.00001184]]  x_up= [[1.00001221]]\n",
      "i= 2 x_lo= [[1.30704647]]  x_up= [[1.30704699]]\n",
      "i= 3 x_lo= [[1.56694568]]  x_up= [[1.56694631]]\n",
      "i= 4 x_lo= [[1.78694561]]  x_up= [[1.78694634]]\n",
      "i= 5 x_lo= [[1.97317152]]  x_up= [[1.97317235]]\n",
      "i= 6 x_lo= [[2.13080836]]  x_up= [[2.13080926]]\n",
      "i= 7 x_lo= [[2.26424506]]  x_up= [[2.26424602]]\n",
      "i= 8 x_lo= [[2.36451611]]  x_up= [[2.36451712]]\n",
      "i= 9 x_lo= [[2.44245464]]  x_up= [[2.44245569]]\n",
      "i= 10 x_lo= [[2.50842818]]  x_up= [[2.50842927]]\n",
      "i= 11 x_lo= [[2.54510532]]  x_up= [[2.54510645]]\n",
      "i= 12 x_lo= [[2.57615185]]  x_up= [[2.576153]]\n",
      "i= 13 x_lo= [[2.58326759]]  x_up= [[2.58326877]]\n",
      "i= 14 x_lo= [[2.58929094]]  x_up= [[2.58929214]]\n",
      "i= 15 x_lo= [[2.57614001]]  x_up= [[2.57614122]]\n",
      "i= 16 x_lo= [[2.56500799]]  x_up= [[2.56500921]]\n",
      "i= 17 x_lo= [[2.53878225]]  x_up= [[2.53878349]]\n",
      "i= 18 x_lo= [[2.51658265]]  x_up= [[2.5165839]]\n",
      "i= 19 x_lo= [[2.48270231]]  x_up= [[2.48270357]]\n",
      "i= 20 x_lo= [[2.45402322]]  x_up= [[2.45402448]]\n",
      "i= 21 x_lo= [[2.41645899]]  x_up= [[2.41646026]]\n",
      "i= 22 x_lo= [[2.38466156]]  x_up= [[2.38466283]]\n",
      "i= 23 x_lo= [[2.34622775]]  x_up= [[2.34622903]]\n",
      "i= 24 x_lo= [[2.31369424]]  x_up= [[2.31369552]]\n",
      "i= 25 x_lo= [[2.27630363]]  x_up= [[2.27630492]]\n",
      "i= 26 x_lo= [[2.24465317]]  x_up= [[2.24465446]]\n",
      "i= 27 x_lo= [[2.20953145]]  x_up= [[2.20953274]]\n",
      "i= 28 x_lo= [[2.17980156]]  x_up= [[2.17980285]]\n",
      "i= 29 x_lo= [[2.14766302]]  x_up= [[2.14766431]]\n",
      "i= 30 x_lo= [[2.12045833]]  x_up= [[2.12045963]]\n",
      "i= 31 x_lo= [[2.09164662]]  x_up= [[2.09164791]]\n",
      "i= 32 x_lo= [[2.06725803]]  x_up= [[2.06725932]]\n",
      "i= 33 x_lo= [[2.04185653]]  x_up= [[2.04185783]]\n",
      "i= 34 x_lo= [[2.01824974]]  x_up= [[2.01825104]]\n",
      "i= 35 x_lo= [[1.99826703]]  x_up= [[1.99826833]]\n",
      "i= 36 x_lo= [[1.97786935]]  x_up= [[1.97787065]]\n",
      "i= 37 x_lo= [[1.96060309]]  x_up= [[1.96060439]]\n",
      "i= 38 x_lo= [[1.94317606]]  x_up= [[1.94317736]]\n",
      "i= 39 x_lo= [[1.92842441]]  x_up= [[1.92842571]]\n",
      "i= 40 x_lo= [[1.91368371]]  x_up= [[1.91368501]]\n",
      "i= 41 x_lo= [[1.90120597]]  x_up= [[1.90120727]]\n",
      "i= 42 x_lo= [[1.88884966]]  x_up= [[1.88885096]]\n",
      "i= 43 x_lo= [[1.87839026]]  x_up= [[1.87839156]]\n",
      "i= 44 x_lo= [[1.86811808]]  x_up= [[1.86811938]]\n",
      "i= 45 x_lo= [[1.85942286]]  x_up= [[1.85942416]]\n",
      "i= 46 x_lo= [[1.85094878]]  x_up= [[1.85095008]]\n",
      "i= 47 x_lo= [[1.84377563]]  x_up= [[1.84377693]]\n",
      "i= 48 x_lo= [[1.83683545]]  x_up= [[1.83683676]]\n",
      "i= 49 x_lo= [[1.83096072]]  x_up= [[1.83096202]]\n",
      "i= 50 x_lo= [[1.82531601]]  x_up= [[1.82531731]]\n",
      "i= 51 x_lo= [[1.82023967]]  x_up= [[1.82024097]]\n",
      "i= 52 x_lo= [[1.81594264]]  x_up= [[1.81594394]]\n",
      "i= 53 x_lo= [[1.81185858]]  x_up= [[1.81185989]]\n",
      "i= 54 x_lo= [[1.80840151]]  x_up= [[1.80840281]]\n",
      "i= 55 x_lo= [[1.80513696]]  x_up= [[1.80513826]]\n",
      "i= 56 x_lo= [[1.80237358]]  x_up= [[1.80237488]]\n",
      "i= 57 x_lo= [[1.79978087]]  x_up= [[1.79978217]]\n",
      "i= 58 x_lo= [[1.79758618]]  x_up= [[1.79758748]]\n",
      "i= 59 x_lo= [[1.79554037]]  x_up= [[1.79554167]]\n",
      "i= 60 x_lo= [[1.79372497]]  x_up= [[1.79372628]]\n",
      "i= 61 x_lo= [[1.79218828]]  x_up= [[1.79218958]]\n",
      "61\n"
     ]
    }
   ],
   "source": [
    "# ---------------------------------------\n",
    "max_k = 450\n",
    "attack_inputs = control_inputs[a.place+2:]\n",
    "print('attack_inputs=', attack_inputs)\n",
    "for j in range(0, len(attack_inputs)-10):\n",
    "    temp = attack_inputs[j:j+10]\n",
    "    if 5 in temp or 5 in temp:\n",
    "        continue\n",
    "    vari = statistics.variance(temp)\n",
    "    print(vari, end= ' ')\n",
    "    if(vari < 1e-6):\n",
    "        max_k = j\n",
    "        break\n",
    "print('max_k', max_k)\n",
    "\n",
    "attack_inputs = np.array([control_inputs[a.place+2:]])\n",
    "x_just_before = x_just_before[-1]\n",
    "print(x_just_before, len(x_just_before.shape))\n",
    "if len(x_just_before.shape) == 0:\n",
    "    x_a = np.array([[x_just_before]])\n",
    "else:\n",
    "    x_a = np.array([[item] for item in x_just_before])\n",
    "# def get_safetime(self, x_a, safe_set_lo, safe_set_up, control_list: np.array, max_k)\n",
    "safe_set_lo = a.safeset['lo']\n",
    "safe_set_up = a.safeset['up']\n",
    "k = a.est.get_safetime(x_a, safe_set_lo, safe_set_up, attack_inputs, max_k)\n",
    "print(k)\n",
    "\n",
    "# ---------------------------------------\n",
    "        \n"
   ]
  },
  {
   "cell_type": "code",
   "execution_count": 5,
   "metadata": {
    "scrolled": true
   },
   "outputs": [
    {
     "name": "stderr",
     "output_type": "stream",
     "text": [
      "C:\\Users\\Mengyu\\Anaconda3\\lib\\site-packages\\ipykernel_launcher.py:11: UserWarning: Matplotlib is currently using module://ipykernel.pylab.backend_inline, which is a non-GUI backend, so cannot show the figure.\n",
      "  # This is added back by InteractiveShellApp.init_path()\n"
     ]
    },
    {
     "data": {
      "image/png": "[encoded data removed]",
      "text/plain": [
       "<Figure size 504x216 with 1 Axes>"
      ]
     },
     "metadata": {
      "needs_background": "light"
     },
     "output_type": "display_data"
    }
   ],
   "source": [
    "fig, ax = plt.subplots(figsize=(7, 3))\n",
    "ax.set_ylim(-6,3.5)\n",
    "ax.set_xlim(6.8,8.35)\n",
    "ax.plot(a.t_arr, a.y_real_arr,label='real')\n",
    "ax.plot(a.t_arr, measures,label='measure')\n",
    "ax.plot(a.t_arr, a.ref,label='ref')\n",
    "ax.axhspan(2.7, 3.5, color='r', alpha=0.5)\n",
    "ax.axvline((a.place+2+k)*a.Ts, color='brown',label='stable')\n",
    "ax.set_ylabel('Speed Difference', fontsize=14)\n",
    "# ax.legend()\n",
    "fig.show()\n",
    "# fig.savefig('vt_unsafe_ref.pdf',bbox_inches='tight')\n",
    "fig.savefig('vt_safe.pdf',bbox_inches='tight')\n",
    "# fig.savefig('vt_unsafe_thres.pdf',bbox_inches='tight')"
   ]
  },
  {
   "cell_type": "code",
   "execution_count": 18,
   "metadata": {},
   "outputs": [
    {
     "name": "stdout",
     "output_type": "stream",
     "text": [
      "A = [[  0.     1.     0.  ]\n",
      " [  0.   -10.     1.  ]\n",
      " [  0.    -0.02  -2.  ]]\n",
      "\n",
      "B = [[0.]\n",
      " [0.]\n",
      " [2.]]\n",
      "\n",
      "C = [[1. 0. 0.]]\n",
      "\n",
      "D = [[0.]]\n",
      "\n"
     ]
    }
   ],
   "source": [
    "# you can use vt, dc and ap\n",
    "a = dc()\n",
    "print(a.sysd)\n",
    "# a.ref = [0] * 251 + [2] * 250\n",
    "# a.thres=6"
   ]
  },
  {
   "cell_type": "code",
   "execution_count": 19,
   "metadata": {},
   "outputs": [],
   "source": [
    "#for ap and dc\n",
    "control_inputs = []\n",
    "measures = []\n",
    "x_just_before = 0\n",
    "pid = PID(P=a.p, I=a.i, D=a.d, current_time=0)\n",
    "pid.setWindup(100)\n",
    "pid.setSampleTime(a.Ts)\n",
    "for i in range(0, a.slot+1):\n",
    "    a.y_real_arr.append(a.yreal)\n",
    "    # sensor attack here\n",
    "    a.score.append(a.s)\n",
    "    pid.SetPoint = a.ref[i]\n",
    "#     print(a.ymeasure,i * a.Ts)\n",
    "    pid.update(feedback_value=a.ymeasure, current_time=i * a.Ts)\n",
    "    a.cin = pid.output\n",
    "\n",
    "    if a.cin>5:\n",
    "        a.cin=5\n",
    "    elif a.cin<-5:\n",
    "        a.cin = -5\n",
    "    else:\n",
    "        a.cin=a.cin\n",
    "    control_inputs.append(a.cin)\n",
    "    if i>a.place:\n",
    "        if (a.score[-1]==a.thres):\n",
    "            a.att=a.drift\n",
    "        else:\n",
    "            a.att = a.thres+a.drift-a.score[-1]\n",
    "            x_just_before = xout \n",
    "    yout, T, xout = lsim(a.sysd, a.cin, [0, a.Ts], a.xmeasure)\n",
    "    yout2, T, xout2 = lsim(a.sysd, a.cin, [0, a.Ts], a.xreal)\n",
    "    a.yreal=yout2[-1]\n",
    "    ypred = yout[-1]\n",
    "    a.xmeasure = xout[-1, :].T\n",
    "    a.xreal = xout2[-1, :].T\n",
    "    a.ymeasure = yout[-1]-a.att\n",
    "#     if i>a.place:\n",
    "#         a.ymeasure = min(ymax[-1],yout[-1]-a.att)\n",
    "    a.s = a.score[-1]+abs(ypred-a.ymeasure)-a.drift\n",
    "    if(a.s<0):\n",
    "        a.s=0\n",
    "    measures.append(a.ymeasure)\n",
    "#waht you need\n",
    "# print(control_inputs)\n",
    "# print(x_just_before)"
   ]
  },
  {
   "cell_type": "code",
   "execution_count": 20,
   "metadata": {},
   "outputs": [
    {
     "name": "stdout",
     "output_type": "stream",
     "text": [
      "attack_inputs= [5, -5, 5, 5, 5, 5, 5, 5, 5, 4.422306367603205, 3.288003791659262, 2.3592643446723267, 1.6596374981227324, 1.6596374981227324, 0.6560249706724284, 0.5081456443039489, 0.3616069438621392, 0.27097443003600374, 0.27097443003600374, 0.09178502717494363, 0.09178502717494363, 0.05775702905450497, 0.08708593147506294, 0.08708593147506294, 0.04701086860373682, 0.04701086860373682, 0.02757726155176271, 0.02757726155176271, 0.016835863654676667, 0.017497293366129863, 0.017497293366129863, 0.00834552152220593, 0.00834552152220593, 0.004191017459619539, 0.004400282328119114, 0.004400282328119114, 0.0019519044845108854, 0.0019519044845108854, 0.0010737819635335691, 0.0012526084825115321, 0.0012526084825115321, 0.0006031098452827801, 0.0006031098452827801, 0.00033529203075421585, 0.0003647662940760058, 0.0003647662940760058, 0.00017130339929050152, 0.00017130339929050152, 9.181891031872954e-05, -5, -5, -5, -5, -5, -5, -5, -5, -5, -5, -5, -5, -5, -5, -5, -5, -5, -5, -5, -5, -5, -5, -5, -5, -5, -5, -5, -5, -5, -3.4852085914138304, -2.4711837751306223, -2.4711837751306223, -1.0202922807993557, -1.0202922807993557, -0.30802947731931485, -0.3098088990798562, -0.3098088990798562, -0.09267112198826033, -0.09267112198826033, -0.07412713842854957, -0.12112956803238359, -0.12112956803238359, -0.06917554242161755, -0.06917554242161755, -0.03984617903702026, -0.03814506917260689, -0.03814506917260689, -0.017125334648386892, -0.017125334648386892, -0.008364531474928556]\n",
      "9.904996630536338 9.795668145792462 0.8674706882643066 1.6172859983178416 2.119145271839204 2.885300558870656 3.3103516673986007 3.354240025791438 2.954400086151365 2.0575894167029958 1.1646222775689552 0.6410817222359797 0.36970717352205656 0.23371415695683032 0.04276739750791423 0.0246802080836344 0.013078685405808399 0.007883711925659564 0.004987771133168323 0.0008624182012912584 0.0008590432281751853 0.0007330312018491308 0.0008183671768936733 0.0005856396156431093 0.0002300231673526805 0.00017654946037408097 8.272770755655123e-05 6.917991721540455e-05 4.1039706322610024e-05 3.6832146666172706e-05 2.5202017630401107e-05 7.707671106450454e-06 5.737841631714531e-06 2.4359024108684763e-06 2.1892387631547384e-06 1.4701890048758315e-06 3.8924169857428053e-07 max_k 36\n",
      "[1.47447722 0.13889676 1.18176962] 1\n",
      "num_control= 36\n",
      "safe_set_lo= [-4, -100, -100]\n",
      "safe_set_up= [4, 100, 100]\n",
      "i= 1 x_lo= [[ 0.13889656]\n",
      " [-0.20719904]\n",
      " [ 7.63368252]]  x_up= [[ 0.13889696]\n",
      " [-0.20719683]\n",
      " [ 7.63368312]]\n",
      "i= 2 x_lo= [[ -0.20719914]\n",
      " [  9.70565101]\n",
      " [-25.26322238]]  x_up= [[ -0.20719673]\n",
      " [  9.70567336]\n",
      " [-25.26322098]]\n",
      "i= 3 x_lo= [[   9.70565091]\n",
      " [-122.31995543]\n",
      " [  60.3323286 ]]  x_up= [[   9.70567346]\n",
      " [-122.31973164]\n",
      " [  60.33233162]]\n",
      "x_0_up [[   9.70567346]\n",
      " [-122.31973164]\n",
      " [  60.33233162]]\n",
      "2\n"
     ]
    }
   ],
   "source": [
    "# ---------------------------------------\n",
    "max_k = 450\n",
    "attack_inputs = control_inputs[a.place+2:]\n",
    "print('attack_inputs=', attack_inputs)\n",
    "for j in range(0, len(attack_inputs)-10):\n",
    "    temp = attack_inputs[j:j+10]\n",
    "    if 20 in temp or 20 in temp:\n",
    "        continue\n",
    "    vari = statistics.variance(temp)\n",
    "    print(vari, end= ' ')\n",
    "    if(vari < 1e-6):\n",
    "        max_k = j\n",
    "        break\n",
    "print('max_k', max_k)\n",
    "\n",
    "attack_inputs = np.array([control_inputs[a.place+2:]])\n",
    "x_just_before = x_just_before[-1]\n",
    "print(x_just_before, len(x_just_before.shape))\n",
    "if len(x_just_before.shape) == 0:\n",
    "    x_a = np.array([[x_just_before]])\n",
    "else:\n",
    "    x_a = np.array([[item] for item in x_just_before])\n",
    "# def get_safetime(self, x_a, safe_set_lo, safe_set_up, control_list: np.array, max_k)\n",
    "safe_set_lo = a.safeset['lo']\n",
    "safe_set_up = a.safeset['up']\n",
    "k = a.est.get_safetime(x_a, safe_set_lo, safe_set_up, attack_inputs, max_k)\n",
    "print(k)\n",
    "\n",
    "# ---------------------------------------\n",
    "        \n"
   ]
  },
  {
   "cell_type": "code",
   "execution_count": 21,
   "metadata": {},
   "outputs": [
    {
     "name": "stderr",
     "output_type": "stream",
     "text": [
      "C:\\Users\\Mengyu\\Anaconda3\\lib\\site-packages\\ipykernel_launcher.py:11: UserWarning: Matplotlib is currently using module://ipykernel.pylab.backend_inline, which is a non-GUI backend, so cannot show the figure.\n",
      "  # This is added back by InteractiveShellApp.init_path()\n"
     ]
    },
    {
     "data": {
      "image/png": "[encoded data removed]",
      "text/plain": [
       "<Figure size 504x216 with 1 Axes>"
      ]
     },
     "metadata": {
      "needs_background": "light"
     },
     "output_type": "display_data"
    }
   ],
   "source": [
    "fig, ax = plt.subplots(figsize=(7, 3))\n",
    "ax.set_ylim(-10,5)\n",
    "ax.set_xlim(3,12)\n",
    "ax.plot(a.t_arr, a.y_real_arr,label='real')\n",
    "ax.plot(a.t_arr, measures,label='measure')\n",
    "ax.plot(a.t_arr, a.ref,label='ref')\n",
    "ax.axhspan(4, 5, color='r', alpha=0.5)\n",
    "ax.axvline((a.place+2+k)*a.Ts, color='brown',label='stable')\n",
    "ax.set_ylabel('Speed Difference', fontsize=14)\n",
    "ax.legend()\n",
    "fig.show()\n",
    "# fig.savefig('vt_unsafe_ref.pdf',bbox_inches='tight')\n",
    "fig.savefig('dc_safe.pdf',bbox_inches='tight')\n",
    "# fig.savefig('vt_unsafe_thres.pdf',bbox_inches='tight')"
   ]
  },
  {
   "cell_type": "code",
   "execution_count": 10,
   "metadata": {},
   "outputs": [
    {
     "data": {
      "text/plain": [
       "121"
      ]
     },
     "execution_count": 10,
     "metadata": {},
     "output_type": "execute_result"
    }
   ],
   "source": [
    "len(a.ref)"
   ]
  },
  {
   "cell_type": "code",
   "execution_count": 11,
   "metadata": {},
   "outputs": [
    {
     "data": {
      "text/plain": [
       "121"
      ]
     },
     "execution_count": 11,
     "metadata": {},
     "output_type": "execute_result"
    }
   ],
   "source": [
    "len(a.y_real_arr)"
   ]
  },
  {
   "cell_type": "code",
   "execution_count": null,
   "metadata": {},
   "outputs": [],
   "source": []
  }
 ],
 "metadata": {
  "kernelspec": {
   "display_name": "Python 3",
   "language": "python",
   "name": "python3"
  },
  "language_info": {
   "codemirror_mode": {
    "name": "ipython",
    "version": 3
   },
   "file_extension": ".py",
   "mimetype": "text/x-python",
   "name": "python",
   "nbconvert_exporter": "python",
   "pygments_lexer": "ipython3",
   "version": "3.7.3"
  }
 },
 "nbformat": 4,
 "nbformat_minor": 2
}
